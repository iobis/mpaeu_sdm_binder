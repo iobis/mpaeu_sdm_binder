{
 "cells": [
  {
   "cell_type": "markdown",
   "id": "2f94b0b1-dcbf-4c6a-b665-1840edf3ecf1",
   "metadata": {},
   "source": [
    "# This is a markdown example"
   ]
  },
  {
   "cell_type": "code",
   "execution_count": null,
   "id": "f93d116d-e975-423f-ac36-1dddf9572b11",
   "metadata": {},
   "outputs": [],
   "source": [
    "1+1"
   ]
  }
 ],
 "metadata": {
  "kernelspec": {
   "display_name": "R",
   "language": "R",
   "name": "ir"
  },
  "language_info": {
   "codemirror_mode": "r",
   "file_extension": ".r",
   "mimetype": "text/x-r-source",
   "name": "R",
   "pygments_lexer": "r",
   "version": "4.2.1"
  }
 },
 "nbformat": 4,
 "nbformat_minor": 5
}
