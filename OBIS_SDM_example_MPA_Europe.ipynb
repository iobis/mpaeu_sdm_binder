{
 "cells": [
  {
   "cell_type": "markdown",
   "metadata": {
    "id": "Lxisuhf6cWQF"
   },
   "source": [
    "## Load packages and functions"
   ]
  },
  {
   "cell_type": "markdown",
   "metadata": {
    "id": "URMRk41dcx5Y"
   },
   "source": [
    "This Binder already comes with all necessary packages installed. Some of them are available only on GitHub (including our own, `obissdm`)."
   ]
  },
  {
   "cell_type": "code",
   "execution_count": null,
   "metadata": {
    "colab": {
     "background_save": true
    },
    "id": "M-drQX2lzo1w",
    "vscode": {
     "languageId": "r"
    }
   },
   "outputs": [],
   "source": [
    "# GitHub packages are installed using the following code:\n",
    "# devtools::install_github('bio-oracle/biooracler')\n",
    "# devtools::install_github('meeliskull/prg/R_package/prg')\n",
    "# devtools::install_github(\"iobis/obistools\")\n",
    "# devtools::install_github(\"iobis/mpaeu_msdm\")\n",
    "\n",
    "# Load packages\n",
    "library(obissdm)\n",
    "library(robis)\n",
    "library(arrow)\n",
    "library(terra)\n",
    "library(dplyr)\n",
    "\n",
    "# Settings\n",
    "set.seed(2023)"
   ]
  },
  {
   "cell_type": "markdown",
   "metadata": {
    "id": "i9BR3eILdSSp"
   },
   "source": [
    "## Get data\n",
    "\n",
    "Here we will use the snapshots we provide on GitHub. We download both the parquet holding the **standardized occurrence records** and the **list of species**."
   ]
  },
  {
   "cell_type": "code",
   "execution_count": 1,
   "metadata": {
    "id": "bKmMa1D0k6Ye",
    "vscode": {
     "languageId": "r"
    }
   },
   "outputs": [],
   "source": [
    "# Retrieve data from GitHub\n",
    "download.file(\"https://github.com/iobis/mpaeu_sdm/raw/main/snapshot/std_records_20231027.parquet\",\n",
    "              destfile = \"records.parquet\")\n",
    "download.file(\"https://github.com/iobis/mpaeu_sdm/raw/main/snapshot/std_splist_20231027.parquet\",\n",
    "              destfile = \"splist.parquet\")"
   ]
  },
  {
   "cell_type": "markdown",
   "metadata": {
    "id": "yvcaVCUjfAkg"
   },
   "source": [
    "Once we download both files, we can load the occurrences dataset. Note that loading the full dataset would be impossible in this Binder, but using Arrow functionalities we can just open the structure of the dataset and then filter by the species we want to model."
   ]
  },
  {
   "cell_type": "code",
   "execution_count": null,
   "metadata": {
    "colab": {
     "background_save": true
    },
    "id": "9eCvs_WJIeR1",
    "outputId": "7d36e979-e01b-4944-d39f-c7073434530f",
    "vscode": {
     "languageId": "r"
    }
   },
   "outputs": [
    {
     "data": {
      "text/plain": [
       "FileSystemDataset with 1 Parquet file\n",
       "decimalLongitude: double\n",
       "decimalLatitude: double\n",
       "data_type: string\n",
       "dataset_sel: bool\n",
       "taxonID: int32\n",
       "species: string\n",
       "ftype: string"
      ]
     },
     "metadata": {},
     "output_type": "display_data"
    },
    {
     "data": {
      "text/html": [
       "<table class=\"dataframe\">\n",
       "<caption>A tibble: 6 × 8</caption>\n",
       "<thead>\n",
       "\t<tr><th scope=col>taxonID</th><th scope=col>species</th><th scope=col>kingdom</th><th scope=col>phylum</th><th scope=col>class</th><th scope=col>order</th><th scope=col>family</th><th scope=col>genus</th></tr>\n",
       "\t<tr><th scope=col>&lt;int&gt;</th><th scope=col>&lt;chr&gt;</th><th scope=col>&lt;chr&gt;</th><th scope=col>&lt;chr&gt;</th><th scope=col>&lt;chr&gt;</th><th scope=col>&lt;chr&gt;</th><th scope=col>&lt;chr&gt;</th><th scope=col>&lt;chr&gt;</th></tr>\n",
       "</thead>\n",
       "<tbody>\n",
       "\t<tr><td>1005373</td><td>Parafissurina ovata</td><td>Chromista</td><td>Foraminifera  </td><td>Nodosariata        </td><td>Polymorphinida </td><td>Ellipsolagenidae</td><td>Parafissurina </td></tr>\n",
       "\t<tr><td> 100599</td><td>Echinorhynchus gadi</td><td>Animalia </td><td>Acanthocephala</td><td>Palaeacanthocephala</td><td>Echinorhynchida</td><td>Echinorhynchidae</td><td>Echinorhynchus</td></tr>\n",
       "\t<tr><td> 100803</td><td>Actinia equina     </td><td>Animalia </td><td>Cnidaria      </td><td>Anthozoa           </td><td>Actiniaria     </td><td>Actiniidae      </td><td>Actinia       </td></tr>\n",
       "\t<tr><td> 100805</td><td>Actinia fragacea   </td><td>Animalia </td><td>Cnidaria      </td><td>Anthozoa           </td><td>Actiniaria     </td><td>Actiniidae      </td><td>Actinia       </td></tr>\n",
       "\t<tr><td> 100807</td><td>Actinia striata    </td><td>Animalia </td><td>Cnidaria      </td><td>Anthozoa           </td><td>Actiniaria     </td><td>Actiniidae      </td><td>Actinia       </td></tr>\n",
       "\t<tr><td> 100808</td><td>Anemonia viridis   </td><td>Animalia </td><td>Cnidaria      </td><td>Anthozoa           </td><td>Actiniaria     </td><td>Actiniidae      </td><td>Anemonia      </td></tr>\n",
       "</tbody>\n",
       "</table>\n"
      ],
      "text/latex": [
       "A tibble: 6 × 8\n",
       "\\begin{tabular}{llllllll}\n",
       " taxonID & species & kingdom & phylum & class & order & family & genus\\\\\n",
       " <int> & <chr> & <chr> & <chr> & <chr> & <chr> & <chr> & <chr>\\\\\n",
       "\\hline\n",
       "\t 1005373 & Parafissurina ovata & Chromista & Foraminifera   & Nodosariata         & Polymorphinida  & Ellipsolagenidae & Parafissurina \\\\\n",
       "\t  100599 & Echinorhynchus gadi & Animalia  & Acanthocephala & Palaeacanthocephala & Echinorhynchida & Echinorhynchidae & Echinorhynchus\\\\\n",
       "\t  100803 & Actinia equina      & Animalia  & Cnidaria       & Anthozoa            & Actiniaria      & Actiniidae       & Actinia       \\\\\n",
       "\t  100805 & Actinia fragacea    & Animalia  & Cnidaria       & Anthozoa            & Actiniaria      & Actiniidae       & Actinia       \\\\\n",
       "\t  100807 & Actinia striata     & Animalia  & Cnidaria       & Anthozoa            & Actiniaria      & Actiniidae       & Actinia       \\\\\n",
       "\t  100808 & Anemonia viridis    & Animalia  & Cnidaria       & Anthozoa            & Actiniaria      & Actiniidae       & Anemonia      \\\\\n",
       "\\end{tabular}\n"
      ],
      "text/markdown": [
       "\n",
       "A tibble: 6 × 8\n",
       "\n",
       "| taxonID &lt;int&gt; | species &lt;chr&gt; | kingdom &lt;chr&gt; | phylum &lt;chr&gt; | class &lt;chr&gt; | order &lt;chr&gt; | family &lt;chr&gt; | genus &lt;chr&gt; |\n",
       "|---|---|---|---|---|---|---|---|\n",
       "| 1005373 | Parafissurina ovata | Chromista | Foraminifera   | Nodosariata         | Polymorphinida  | Ellipsolagenidae | Parafissurina  |\n",
       "|  100599 | Echinorhynchus gadi | Animalia  | Acanthocephala | Palaeacanthocephala | Echinorhynchida | Echinorhynchidae | Echinorhynchus |\n",
       "|  100803 | Actinia equina      | Animalia  | Cnidaria       | Anthozoa            | Actiniaria      | Actiniidae       | Actinia        |\n",
       "|  100805 | Actinia fragacea    | Animalia  | Cnidaria       | Anthozoa            | Actiniaria      | Actiniidae       | Actinia        |\n",
       "|  100807 | Actinia striata     | Animalia  | Cnidaria       | Anthozoa            | Actiniaria      | Actiniidae       | Actinia        |\n",
       "|  100808 | Anemonia viridis    | Animalia  | Cnidaria       | Anthozoa            | Actiniaria      | Actiniidae       | Anemonia       |\n",
       "\n"
      ],
      "text/plain": [
       "  taxonID species             kingdom   phylum         class              \n",
       "1 1005373 Parafissurina ovata Chromista Foraminifera   Nodosariata        \n",
       "2  100599 Echinorhynchus gadi Animalia  Acanthocephala Palaeacanthocephala\n",
       "3  100803 Actinia equina      Animalia  Cnidaria       Anthozoa           \n",
       "4  100805 Actinia fragacea    Animalia  Cnidaria       Anthozoa           \n",
       "5  100807 Actinia striata     Animalia  Cnidaria       Anthozoa           \n",
       "6  100808 Anemonia viridis    Animalia  Cnidaria       Anthozoa           \n",
       "  order           family           genus         \n",
       "1 Polymorphinida  Ellipsolagenidae Parafissurina \n",
       "2 Echinorhynchida Echinorhynchidae Echinorhynchus\n",
       "3 Actiniaria      Actiniidae       Actinia       \n",
       "4 Actiniaria      Actiniidae       Actinia       \n",
       "5 Actiniaria      Actiniidae       Actinia       \n",
       "6 Actiniaria      Actiniidae       Anemonia      "
      ]
     },
     "metadata": {},
     "output_type": "display_data"
    }
   ],
   "source": [
    "# Load species data\n",
    "occ <- open_dataset(\"records.parquet\")\n",
    "occ\n",
    "\n",
    "# The species list we can load in its full\n",
    "splist <- read_parquet(\"splist.parquet\")\n",
    "head(splist)"
   ]
  },
  {
   "cell_type": "markdown",
   "id": "ef6d9a44",
   "metadata": {},
   "source": [
    "The first thing we should do is chose one species to model (he full list of available species is on the object `splist`). Here we will model the distribution of *Actinia equina*, a sea anemone ([see details here](https://www.marinespecies.org/aphia.php?p=taxdetails&id=100803))."
   ]
  },
  {
   "cell_type": "code",
   "execution_count": null,
   "id": "2b3cfeec",
   "metadata": {
    "vscode": {
     "languageId": "r"
    }
   },
   "outputs": [],
   "source": [
    "# Chose species\n",
    "tg_sp <- 100803"
   ]
  },
  {
   "cell_type": "markdown",
   "metadata": {
    "id": "8_SqiQGbh3f7"
   },
   "source": [
    "We also need to load the __configuration file__ (a YAML file) that is available on the GitHub repository. Although not necessary (see our other notebook), using this file ensures that we have a fully traceable access to the configurations used for establishing the groups and the variables used for each of them. Here we will just use the same configurations applied in our SDM project. You can also download and edit this file to change the configuration as you wish."
   ]
  },
  {
   "cell_type": "code",
   "execution_count": null,
   "id": "ff3c9ab4",
   "metadata": {
    "vscode": {
     "languageId": "r"
    }
   },
   "outputs": [],
   "source": [
    "# Get the path to the configuration file\n",
    "download.file(\"https://raw.githubusercontent.com/iobis/mpaeu_sdm/main/sdm_conf.yml\", \"sdm_conf.yml\")\n",
    "conf_path <- \"sdm_conf.yml\"\n",
    "# If you want to see the content, just run the following two lines:\n",
    "# conf_content <- yaml::read_yaml(conf_path)\n",
    "# conf_content"
   ]
  },
  {
   "cell_type": "markdown",
   "id": "d0617b58",
   "metadata": {},
   "source": [
    "Once we have the configuration file, we can assign all species to groups. This will be important to define which variables will be used. We use the `obissdm` function `get_listbygroup` to do that."
   ]
  },
  {
   "cell_type": "code",
   "execution_count": null,
   "id": "983d9e29",
   "metadata": {
    "vscode": {
     "languageId": "r"
    }
   },
   "outputs": [],
   "source": [
    "# Include list of species groups in the list\n",
    "splist_groups <- get_listbygroup(splist, conf_path)\n",
    "\n",
    "head(splist_groups)"
   ]
  },
  {
   "cell_type": "markdown",
   "id": "1259dcb8",
   "metadata": {},
   "source": [
    "Now that we have the occurrence records and the species list (with groups assigned), we download the environmental data from Bio-ORACLE. We use a function from `obissdm` (see `?get_env_data`). A full list of variables you can download is available here: https://erddap.bio-oracle.org/erddap/griddap/index.html?page=1&itemsPerPage=1000\n",
    "\n",
    "To save time, we will download data for only the chosen species using the same variables that were used in the original project. Note that there is the possibility to use different hypothesis of variables, but here we will chose the \"basevars\" hypothesis."
   ]
  },
  {
   "cell_type": "code",
   "execution_count": null,
   "metadata": {
    "colab": {
     "background_save": true,
     "base_uri": "https://localhost:8080/"
    },
    "id": "m4qOeZop-4AZ",
    "outputId": "8aa1b99a-6ede-4b78-ff8b-5916d9977c5f",
    "vscode": {
     "languageId": "r"
    }
   },
   "outputs": [],
   "source": [
    "# Select one hypothesis\n",
    "chos_hypothesis <- \"basevars\"\n",
    "\n",
    "# Get the group of the species\n",
    "chos_group <- splist_groups$sdm_group[splist_groups$taxonID == tg_sp]\n",
    "\n",
    "# Get the variables list\n",
    "chos_vars <- get_conf(\"../mpaeu_sdm/sdm_conf.yml\", what = \"variables\")\n",
    "chos_vars <- chos_vars$variables[[chos_group]][[chos_hypothesis]]\n",
    "\n",
    "# Download environmental layers\n",
    "# List datasets to download\n",
    "datasets <- c(\n",
    "  \"thetao_baseline_2000_2019_depthsurf\",\n",
    "  \"so_baseline_2000_2019_depthsurf\",\n",
    "  \"PAR_mean_baseline_2000_2020_depthsurf\",\n",
    "  \"po4_baseline_2000_2018_depthsurf\",\n",
    "  \"phyc_baseline_2000_2020_depthsurf\",\n",
    "  \"ph_baseline_2000_2018_depthsurf\",\n",
    "  \"sws_baseline_2000_2019_depthsurf\",\n",
    "  \"siconc_baseline_2000_2020_depthsurf\",\n",
    "  \"o2_baseline_2000_2018_depthsurf\",\n",
    "  \"KDPAR_mean_baseline_2000_2020_depthsurf\",\n",
    "  \"dfe_baseline_2000_2018_depthsurf\",\n",
    "  \"no3_baseline_2000_2018_depthsurf\",\n",
    "  \"chl_baseline_2000_2018_depthsurf\",\n",
    "  \"tas_baseline_2000_2020_depthsurf\"\n",
    ")\n",
    "\n",
    "# Filter to only those that are among the chosen variables\n",
    "datasets <- datasets[grepl(chos_vars, datasets)]\n",
    "\n",
    "# Download from other depths also\n",
    "datasets <- c(datasets,\n",
    "              gsub(\"depthsurf\", \"depthmean\", datasets),\n",
    "              gsub(\"depthsurf\", \"depthmax\", datasets))\n",
    "\n",
    "# List scenarios to download (you can change to speed up the download)\n",
    "future_scenarios <- c(\"ssp126\", \"ssp245\", \"ssp370\", \"ssp460\", \"ssp585\")\n",
    "\n",
    "# Define time steps (you can also limit here to speed up download)\n",
    "time_steps <- list(\n",
    "  current = c(\"2010-01-01\", \"2010-01-01\"),\n",
    "  dec50 = c(\"2050-01-01\", \"2050-01-01\"),\n",
    "  dec100 = c(\"2090-01-01\", \"2090-01-01\")\n",
    ")\n",
    "\n",
    "# Define variables to be downloaded\n",
    "# In general, available are: min, mean, max, range, ltmin, ltmax, and sd\n",
    "variables <- c(\"min\", \"mean\", \"max\")\n",
    "\n",
    "# Define a bounding box (clip the are to only this region)\n",
    "lon <- c(-41, 47)\n",
    "lat <- c(20, 89)\n",
    "\n",
    "get_env_data(datasets = datasets, future_scenarios = future_scenarios,\n",
    "             time_steps = time_steps,\n",
    "             longitude = lon, latitude = lat,\n",
    "             variables = variables,\n",
    "             terrain_vars = \"bathymetry_mean\")"
   ]
  },
  {
   "cell_type": "code",
   "execution_count": null,
   "metadata": {
    "colab": {
     "background_save": true
    },
    "id": "NWUOryrpHl-x",
    "outputId": "5b6901bb-3ac2-4573-f415-399362d10c3e",
    "vscode": {
     "languageId": "r"
    }
   },
   "outputs": [],
   "source": [
    "# Load one to check\n",
    "env <- rast(\"data/env/current/thetao_baseline_depthsurf_mean.tif\")\n",
    "plot(env)"
   ]
  },
  {
   "cell_type": "markdown",
   "metadata": {
    "id": "752dYmyvkf0V"
   },
   "source": [
    "## Prepare data for modeling\n",
    "\n",
    "We now have all data for modeling. We start by loading the environmental data for the chosen group (using the function `get_envofgroup`), and separating the species data for the chosen species."
   ]
  },
  {
   "cell_type": "code",
   "execution_count": null,
   "metadata": {
    "id": "22wDRzB1mcVq",
    "vscode": {
     "languageId": "r"
    }
   },
   "outputs": [],
   "source": [
    "# Get env data\n",
    "env_sdm <- get_envofgroup(chos_group)\n",
    "\n",
    "env_sdm\n",
    "\n",
    "# Get data for only the chosen species\n",
    "pts <- occ %>%\n",
    "  filter(taxonID == tg_sp) %>%\n",
    "  collect() # We use collect here to get the data from the Parquet dataset\n",
    "\n",
    "head(pts)"
   ]
  },
  {
   "cell_type": "markdown",
   "metadata": {
    "id": "8UXbx5mNWAwD"
   },
   "source": [
    "All SDM modules used in this project uses the same input data object, which can be created with the function `mp_prepare_data` (all functions with `mp_*` deals with data processing). We first check if there is any evaluation data set aside for the species."
   ]
  },
  {
   "cell_type": "code",
   "execution_count": null,
   "metadata": {
    "id": "gC9W7zeiN95u",
    "vscode": {
     "languageId": "r"
    }
   },
   "outputs": [],
   "source": [
    "table(pts$data_type) # If there is evaluation, you will see 'eval_points'\n",
    "\n",
    "pts_fit <- pts[pts$data_type == \"fit_points\",]\n",
    "\n",
    "if (\"eval_points\" %in% pts$data_type) {\n",
    "  pts_eval <- pts[pts$data_type == \"eval_points\",1:2]\n",
    "  # We sample some \"absence\" points for the evaluation, just to ensure all metrics\n",
    "  # can be calculated.\n",
    "  back_eval <- env_sdm[[1]]\n",
    "  back_eval[cellFromXY(back_eval, data.frame(pts_eval))] <- NA\n",
    "  back_eval <- spatSample(back_eval, nrow(pts_eval), xy = T, na.rm = T)\n",
    "  colnames(back_eval)[1:2] <- colnames(pts_eval)\n",
    "  pts_eval <- rbind(\n",
    "    cbind(pts_eval, presence = 1),\n",
    "    cbind(back_eval[,1:2], presence = 0))\n",
    "} else {\n",
    "  pts_eval <- NULL\n",
    "}\n",
    "\n",
    "# Prepare the sdm_data object\n",
    "sp_data <- mp_prepare_data(\n",
    "  training = pts_fit,\n",
    "  eval_data = pts_eval,\n",
    "  species_id = pts_fit$species[1],\n",
    "  env_layers = env_sdm,\n",
    "  quad_number = 150000\n",
    ")\n",
    "\n",
    "sp_data"
   ]
  },
  {
   "cell_type": "markdown",
   "metadata": {
    "id": "JAk8lXByZsO-"
   },
   "source": [
    "In this project we are using spatial block cross-validation to tune and assess the quality of our models."
   ]
  },
  {
   "cell_type": "code",
   "execution_count": null,
   "metadata": {
    "id": "JS18BpKGPFbO",
    "vscode": {
     "languageId": "r"
    }
   },
   "outputs": [],
   "source": [
    "# Ensure that the extent encompasses the resolution\n",
    "tune_blocks <- \"spatial_grid\"\n",
    "sel_size <- 0.2\n",
    "\n",
    "xmin_ext <- round(ext(env)[1]-0.1, 1)\n",
    "ymax_ext <- round(ext(env)[4]+0.1, 1)\n",
    "\n",
    "ymin_t <- round(ext(env)[3]-0.1, 1)\n",
    "test_ymin <- seq(ymax_ext, ymin_t, by = -sel_size)\n",
    "ymin_ext <- ifelse(min(test_ymin) > ymin_t, round((min(test_ymin) - sel_size), 1), min(test_ymin))\n",
    "\n",
    "xmax_t <- round(ext(env)[2]+0.1, 1)\n",
    "test_xmax <- seq(xmin_ext, xmax_t, by = sel_size)\n",
    "xmax_ext <- ifelse(max(test_xmax) < xmax_t, round((max(test_xmax) + sel_size), 1), max(test_xmax))\n",
    "\n",
    "block_list <- list(spatial_grid = rast(ext(xmin_ext, xmax_ext, ymin_ext, ymax_ext), resolution = sel_size))\n",
    "\n",
    "sp_data_blocked <- mp_prepare_blocks(sp_data, method = \"manual\",\n",
    "                                             block_types = c(\"spatial_grid\", \"random\"),\n",
    "                                             manual_shp = block_list,\n",
    "                                             n_iterate = 300,\n",
    "                                             verbose = T)"
   ]
  },
  {
   "cell_type": "code",
   "execution_count": null,
   "metadata": {
    "id": "UHAumuLrQGLH",
    "vscode": {
     "languageId": "r"
    }
   },
   "outputs": [],
   "source": [
    "# See the final object\n",
    "sp_data_blocked"
   ]
  },
  {
   "cell_type": "markdown",
   "metadata": {
    "id": "GO6Xapqbdn3V"
   },
   "source": [
    "Once all data is formated, we can run the model. We will run here a MAXENT model using the maxnet R implementation."
   ]
  },
  {
   "cell_type": "code",
   "execution_count": null,
   "metadata": {
    "id": "bZktsrFDZygL",
    "vscode": {
     "languageId": "r"
    }
   },
   "outputs": [],
   "source": [
    "model_max <- sdm_module_maxent(sp_data_blocked)\n",
    "\n",
    "model_max"
   ]
  },
  {
   "cell_type": "markdown",
   "id": "3f918134",
   "metadata": {},
   "source": [
    "We predict for the different scenarios:"
   ]
  },
  {
   "cell_type": "code",
   "execution_count": null,
   "id": "196b87e8",
   "metadata": {
    "vscode": {
     "languageId": "r"
    }
   },
   "outputs": [],
   "source": []
  }
 ],
 "metadata": {
  "kernelspec": {
   "display_name": "R",
   "language": "R",
   "name": "ir"
  },
  "language_info": {
   "codemirror_mode": "r",
   "file_extension": ".r",
   "mimetype": "text/x-r-source",
   "name": "R",
   "pygments_lexer": "r",
   "version": "4.2.1"
  }
 },
 "nbformat": 4,
 "nbformat_minor": 5
}
